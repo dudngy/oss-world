{
  "nbformat": 4,
  "nbformat_minor": 0,
  "metadata": {
    "colab": {
      "provenance": [],
      "authorship_tag": "ABX9TyPAPcpGMXgIym7ngLj3+/zx",
      "include_colab_link": true
    },
    "kernelspec": {
      "name": "python3",
      "display_name": "Python 3"
    },
    "language_info": {
      "name": "python"
    }
  },
  "cells": [
    {
      "cell_type": "markdown",
      "metadata": {
        "id": "view-in-github",
        "colab_type": "text"
      },
      "source": [
        "<a href=\"https://colab.research.google.com/github/dudngy/oss-world/blob/main/MarkdownCS.ipynb\" target=\"_parent\"><img src=\"https://colab.research.google.com/assets/colab-badge.svg\" alt=\"Open In Colab\"/></a>"
      ]
    },
    {
      "cell_type": "code",
      "execution_count": null,
      "metadata": {
        "id": "10a4AE05AuuS"
      },
      "outputs": [],
      "source": []
    },
    {
      "cell_type": "markdown",
      "source": [
        "#Header1"
      ],
      "metadata": {
        "id": "GyE5LN13BQ7t"
      }
    },
    {
      "cell_type": "markdown",
      "source": [
        "##Header2"
      ],
      "metadata": {
        "id": "qh30Voo2BXMA"
      }
    },
    {
      "cell_type": "markdown",
      "source": [
        "###Header3"
      ],
      "metadata": {
        "id": "s99MGV9BBYvk"
      }
    },
    {
      "cell_type": "markdown",
      "source": [
        "*italics*\n",
        "_italics_"
      ],
      "metadata": {
        "id": "bnx574JqBdwK"
      }
    },
    {
      "cell_type": "markdown",
      "source": [
        "\\*literal asterisks*\\"
      ],
      "metadata": {
        "id": "4uEQcHY3Bqvv"
      }
    },
    {
      "cell_type": "markdown",
      "source": [
        "**bold**\n",
        "__bold__"
      ],
      "metadata": {
        "id": "9g9Xx08KBvkX"
      }
    },
    {
      "cell_type": "markdown",
      "source": [
        "1. item\n",
        ">indent\n",
        "2. item"
      ],
      "metadata": {
        "id": "H2W5lmekByNo"
      }
    },
    {
      "cell_type": "markdown",
      "source": [
        "* item\n",
        ">* item"
      ],
      "metadata": {
        "id": "jsA2tv0dCyed"
      }
    },
    {
      "cell_type": "markdown",
      "source": [
        "- [x] Done\n",
        "- [ ] To do"
      ],
      "metadata": {
        "id": "GuMEH0G9DRm6"
      }
    },
    {
      "cell_type": "markdown",
      "source": [
        "---\n",
        "***"
      ],
      "metadata": {
        "id": "iTGNCqAZDawC"
      }
    },
    {
      "cell_type": "markdown",
      "source": [
        "> blockquote text"
      ],
      "metadata": {
        "id": "bnpfC9Y9Dg2N"
      }
    }
  ]
}