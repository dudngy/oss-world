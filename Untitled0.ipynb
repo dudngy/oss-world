{
  "nbformat": 4,
  "nbformat_minor": 0,
  "metadata": {
    "colab": {
      "provenance": [],
      "authorship_tag": "ABX9TyNuQMElz/UTVhZi/rmtUfXJ",
      "include_colab_link": true
    },
    "kernelspec": {
      "name": "python3",
      "display_name": "Python 3"
    },
    "language_info": {
      "name": "python"
    }
  },
  "cells": [
    {
      "cell_type": "markdown",
      "metadata": {
        "id": "view-in-github",
        "colab_type": "text"
      },
      "source": [
        "<a href=\"https://colab.research.google.com/github/dudngy/oss-world/blob/main/Untitled0.ipynb\" target=\"_parent\"><img src=\"https://colab.research.google.com/assets/colab-badge.svg\" alt=\"Open In Colab\"/></a>"
      ]
    },
    {
      "cell_type": "code",
      "execution_count": 2,
      "metadata": {
        "id": "3b4LMR_GlUec"
      },
      "outputs": [],
      "source": [
        "from google.colab import auth\n",
        "auth.authenticate_user()"
      ]
    },
    {
      "cell_type": "code",
      "source": [
        "import gspread\n",
        "from google.auth import default\n",
        "creds, _ = default()"
      ],
      "metadata": {
        "id": "ZKKHtkMVm75N"
      },
      "execution_count": 3,
      "outputs": []
    },
    {
      "cell_type": "code",
      "source": [
        "gc = gspread.authorize(creds)"
      ],
      "metadata": {
        "id": "pve311-Gm9PO"
      },
      "execution_count": 4,
      "outputs": []
    },
    {
      "cell_type": "code",
      "source": [
        "sh = gc.create('A new spreadsheet')"
      ],
      "metadata": {
        "id": "evi0fCEjnA7b"
      },
      "execution_count": 7,
      "outputs": []
    },
    {
      "cell_type": "code",
      "source": [
        "worksheet = gc.open('A new spreadsheet').sheet1"
      ],
      "metadata": {
        "id": "I3_gItKtnHj5"
      },
      "execution_count": 8,
      "outputs": []
    },
    {
      "cell_type": "code",
      "source": [
        "cell_list = worksheet.range('A1:C2')"
      ],
      "metadata": {
        "id": "Aq4q9syGnaDA"
      },
      "execution_count": 9,
      "outputs": []
    },
    {
      "cell_type": "code",
      "source": [
        "import random"
      ],
      "metadata": {
        "id": "EGFuWOkFngGr"
      },
      "execution_count": 10,
      "outputs": []
    },
    {
      "cell_type": "code",
      "source": [
        "for cell in cell_list:\n",
        "  cell.value = random.randint(1,10)"
      ],
      "metadata": {
        "id": "fLu3t8lYniP8"
      },
      "execution_count": 11,
      "outputs": []
    },
    {
      "cell_type": "code",
      "source": [
        "worksheet.update_cells(cell_list)"
      ],
      "metadata": {
        "colab": {
          "base_uri": "https://localhost:8080/"
        },
        "id": "KEVp_cS3nqG9",
        "outputId": "cfdaeb93-c47d-415c-d54b-92759923dbb3"
      },
      "execution_count": 12,
      "outputs": [
        {
          "output_type": "execute_result",
          "data": {
            "text/plain": [
              "{'spreadsheetId': '1eO6b6eIekcIpDutYfmYIHL6BdAOqDRCMmrvCC4YQmoE',\n",
              " 'updatedRange': \"'시트1'!A1:C2\",\n",
              " 'updatedRows': 2,\n",
              " 'updatedColumns': 3,\n",
              " 'updatedCells': 6}"
            ]
          },
          "metadata": {},
          "execution_count": 12
        }
      ]
    }
  ]
}